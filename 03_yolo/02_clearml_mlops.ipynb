{
 "cells": [
  {
   "cell_type": "code",
   "execution_count": 2,
   "id": "b091aa7b",
   "metadata": {},
   "outputs": [],
   "source": [
    "from clearml import Task\n",
    "task = Task.init(project_name=\"yolo01_test\", task_name=\"my task\")"
   ]
  },
  {
   "cell_type": "code",
   "execution_count": null,
   "id": "bcebf9bc",
   "metadata": {},
   "outputs": [],
   "source": [
    "from clearml import Task\n",
    "import os\n",
    "from ultralytics import YOLO\n",
    "\n",
    "# ClearML initialization\n",
    "task = Task.init(project_name=\"YOLOv8_Training\", task_name=\"53 Class Object Detection\")\n",
    "\n",
    "# Optional CUDA setting\n",
    "os.environ[\"PYTORCH_CUDA_ALLOC_CONF\"] = \"expandable_segments:True\"\n",
    "\n",
    "# Load model\n",
    "model = YOLO('yolo8s.pt')  # or yolov8s.pt, yolov8n.pt, etc.\n",
    "\n",
    "# Train\n",
    "model.train(\n",
    "    data=r\"C:\\Users\\bot\\Desktop\\YOLO\\data.yaml\",\n",
    "    cfg=r\"C:\\Users\\bot\\Desktop\\YOLO\\cfg.yaml\",  # optional\n",
    "    freeze=10,\n",
    "    name=\"Object_detect_53_img_using_aug\"\n",
    ")\n"
   ]
  }
 ],
 "metadata": {
  "kernelspec": {
   "display_name": "pytorchcpu",
   "language": "python",
   "name": "python3"
  },
  "language_info": {
   "codemirror_mode": {
    "name": "ipython",
    "version": 3
   },
   "file_extension": ".py",
   "mimetype": "text/x-python",
   "name": "python",
   "nbconvert_exporter": "python",
   "pygments_lexer": "ipython3",
   "version": "3.10.18"
  }
 },
 "nbformat": 4,
 "nbformat_minor": 5
}
