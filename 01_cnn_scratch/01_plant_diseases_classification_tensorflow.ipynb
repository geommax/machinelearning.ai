{
  "cells": [
    {
      "cell_type": "markdown",
      "metadata": {},
      "source": [
        "### Step 1. Importing Required Libraries"
      ]
    },
    {
      "cell_type": "code",
      "execution_count": null,
      "metadata": {
        "_cell_guid": "b1076dfc-b9ad-4769-8c92-a6c4dae69d19",
        "_uuid": "8f2839f25d086af736a60e9eeb907d3b93b6e0e5",
        "execution": {
          "iopub.execute_input": "2025-06-15T21:29:59.043826Z",
          "iopub.status.busy": "2025-06-15T21:29:59.043161Z",
          "iopub.status.idle": "2025-06-15T21:30:02.934486Z",
          "shell.execute_reply": "2025-06-15T21:30:02.933907Z",
          "shell.execute_reply.started": "2025-06-15T21:29:59.043772Z"
        },
        "id": "iy9MhdzDr9qx",
        "trusted": true
      },
      "outputs": [],
      "source": [
        "import numpy as np\n",
        "import matplotlib.pyplot as plt\n",
        "import seaborn as sns\n",
        "import cv2\n",
        "import tensorflow as tf\n",
        "import glob\n",
        "import os\n",
        "import pandas as pd\n",
        "from tqdm import tqdm\n",
        "import random\n",
        "from sklearn.model_selection import train_test_split\n",
        "from sklearn.metrics import confusion_matrix, classification_report, accuracy_score"
      ]
    },
    {
      "cell_type": "code",
      "execution_count": null,
      "metadata": {},
      "outputs": [],
      "source": [
        "# Check if TensorFlow can access a GPU\n",
        "gpus = tf.config.list_physical_devices('GPU')\n",
        "if gpus:\n",
        "    print(f\"GPUs available: {gpus}\")\n",
        "    tf.config.experimental.set_memory_growth(gpus[0], True)\n",
        "    print(\"Using GPU for TensorFlow operations.\")\n",
        "else:\n",
        "    print(\"No GPU found. TensorFlow will use CPU.\")"
      ]
    },
    {
      "cell_type": "markdown",
      "metadata": {},
      "source": [
        "### Step 2. Preapre RAW DataSets"
      ]
    },
    {
      "cell_type": "code",
      "execution_count": null,
      "metadata": {
        "execution": {
          "iopub.execute_input": "2025-06-15T21:30:02.936213Z",
          "iopub.status.busy": "2025-06-15T21:30:02.935722Z",
          "iopub.status.idle": "2025-06-15T21:30:02.939995Z",
          "shell.execute_reply": "2025-06-15T21:30:02.939224Z",
          "shell.execute_reply.started": "2025-06-15T21:30:02.936184Z"
        },
        "id": "k0qqHra0r9qy",
        "trusted": true
      },
      "outputs": [],
      "source": [
        "data_path = r'C:\\Users\\bot\\Desktop\\googleClassroom\\PlantVillage'"
      ]
    },
    {
      "cell_type": "code",
      "execution_count": null,
      "metadata": {
        "execution": {
          "iopub.execute_input": "2025-06-15T21:30:02.940844Z",
          "iopub.status.busy": "2025-06-15T21:30:02.940584Z",
          "iopub.status.idle": "2025-06-15T21:30:02.967888Z",
          "shell.execute_reply": "2025-06-15T21:30:02.967318Z",
          "shell.execute_reply.started": "2025-06-15T21:30:02.940827Z"
        },
        "id": "K0RUSOaZr9qy",
        "trusted": true
      },
      "outputs": [],
      "source": [
        "categories = os.listdir(data_path)\n",
        "print(\"Classes:\", categories)"
      ]
    },
    {
      "cell_type": "markdown",
      "metadata": {},
      "source": [
        "### Step 3. Splitting Training, Validation, Testing Data From RAW Data Directory"
      ]
    },
    {
      "cell_type": "code",
      "execution_count": null,
      "metadata": {
        "execution": {
          "iopub.execute_input": "2025-06-15T21:30:02.969293Z",
          "iopub.status.busy": "2025-06-15T21:30:02.969086Z",
          "iopub.status.idle": "2025-06-15T21:31:01.751611Z",
          "shell.execute_reply": "2025-06-15T21:31:01.750756Z",
          "shell.execute_reply.started": "2025-06-15T21:30:02.969277Z"
        },
        "id": "WhkheWywr9qy",
        "trusted": true
      },
      "outputs": [],
      "source": [
        "data_dir = data_path\n",
        "img_size = 128\n",
        "\n",
        "categories = os.listdir(data_dir)\n",
        "print(\"Classes:\", categories)\n",
        "\n",
        "data = []\n",
        "labels = []\n",
        "\n",
        "for i, category in tqdm(enumerate(categories)):\n",
        "    folder_path = os.path.join(data_dir, category)\n",
        "    for img in os.listdir(folder_path):\n",
        "        try:\n",
        "            img_path = os.path.join(folder_path, img)\n",
        "            img_arr = cv2.imread(img_path)\n",
        "            img_arr = cv2.resize(img_arr, (img_size, img_size))\n",
        "            data.append(img_arr)\n",
        "            labels.append(i)\n",
        "        except Exception as e:\n",
        "            pass  # Skip all unreadable images\n",
        "\n",
        "print(\"Total images:\", len(data))"
      ]
    },
    {
      "cell_type": "code",
      "execution_count": null,
      "metadata": {},
      "outputs": [],
      "source": [
        "import os\n",
        "import shutil\n",
        "import random\n",
        "from tqdm import tqdm\n",
        "\n",
        "\n",
        "random.seed(42)\n",
        "\n",
        "src_dir = data_path\n",
        "target_base = '.'\n",
        "splits = {'train': 0.60, 'valid': 0.20, 'test': 0.20}\n",
        "\n",
        "# Get class names from subfolders\n",
        "classes = [d for d in os.listdir(src_dir) if os.path.isdir(os.path.join(src_dir, d))]\n",
        "\n",
        "for split in splits:\n",
        "    for cls in classes:\n",
        "        os.makedirs(os.path.join(target_base, split, cls), exist_ok=True)\n",
        "\n",
        "# Prepare to store split counts\n",
        "split_indices_per_class = {}\n",
        "total_images = 0\n",
        "\n",
        "print(\"Original and split counts per class:\")\n",
        "for cls in classes:\n",
        "    img_dir = os.path.join(src_dir, cls)\n",
        "    images = [f for f in os.listdir(img_dir) if os.path.isfile(os.path.join(img_dir, f))]\n",
        "    random.shuffle(images)\n",
        "    n_total = len(images)\n",
        "    n_train = int(n_total * splits['train'])\n",
        "    n_valid = int(n_total * splits['valid'])\n",
        "    n_test = n_total - n_train - n_valid\n",
        "\n",
        "    split_indices = {\n",
        "        'train': images[:n_train],\n",
        "        'valid': images[n_train:n_train + n_valid],\n",
        "        'test': images[n_train + n_valid:]\n",
        "    }\n",
        "    split_indices_per_class[cls] = split_indices\n",
        "    total_images += sum(len(files) for files in split_indices.values())\n",
        "\n",
        "    print(f\"Class '{cls}': total={n_total}, train={len(split_indices['train'])}, valid={len(split_indices['valid'])}, test={len(split_indices['test'])}\")\n",
        "\n",
        "print(f\"\\nTotal images to copy: {total_images}\\n\")\n",
        "\n",
        "# Copy with a single progress bar\n",
        "with tqdm(total=total_images, desc=\"Overall Progress\", unit=\"img\") as pbar:\n",
        "    for cls, split_indices in split_indices_per_class.items():\n",
        "        for split, files in split_indices.items():\n",
        "            for f in files:\n",
        "                src_path = os.path.join(src_dir, cls, f)\n",
        "                dst_path = os.path.join(target_base, split, cls, f)\n",
        "                shutil.copy2(src_path, dst_path)\n",
        "                pbar.update(1)"
      ]
    },
    {
      "cell_type": "markdown",
      "metadata": {},
      "source": [
        "### Step 4. Reviewing Data"
      ]
    },
    {
      "cell_type": "code",
      "execution_count": null,
      "metadata": {},
      "outputs": [],
      "source": [
        "# Display some sample images from the raw data for visual inspection\n",
        "sample_class = random.choice(categories)\n",
        "sample_images = random.sample(os.listdir(os.path.join(data_path, sample_class)), 9)\n",
        "\n",
        "fig, axs = plt.subplots(3, 3, figsize=(9, 7))\n",
        "fig.suptitle(f\"Sample images from class: {sample_class}\", fontsize=16)\n",
        "\n",
        "for i, img_name in enumerate(sample_images):\n",
        "    img_path = os.path.join(data_path, sample_class, img_name)\n",
        "    img = cv2.imread(img_path)\n",
        "    img = cv2.cvtColor(img, cv2.COLOR_BGR2RGB)\n",
        "\n",
        "    h, w, c = img.shape\n",
        "    axs[i // 3, i % 3].imshow(img)\n",
        "    axs[i // 3, i % 3].set_title(f\"{w}x{h}x{c}\", fontsize=10)\n",
        "    axs[i // 3, i % 3].axis('off')\n",
        "\n",
        "    # Optional: print detailed info in console\n",
        "    print(f\"{img_name}: shape = {img.shape}\")\n",
        "\n",
        "plt.tight_layout()\n",
        "plt.show()"
      ]
    },
    {
      "cell_type": "markdown",
      "metadata": {},
      "source": [
        "### Step 5. Preparing Datasets to build CNN Models"
      ]
    },
    {
      "cell_type": "code",
      "execution_count": null,
      "metadata": {},
      "outputs": [],
      "source": [
        "training_set = tf.keras.utils.image_dataset_from_directory(\n",
        "    'train',\n",
        "    labels=\"inferred\",\n",
        "    label_mode=\"categorical\",\n",
        "    class_names=None,\n",
        "    color_mode=\"rgb\",\n",
        "    batch_size=32,\n",
        "    image_size=(128, 128),\n",
        "    shuffle=True,\n",
        "    seed=None,\n",
        "    validation_split=None,\n",
        "    subset=None,\n",
        "    interpolation=\"bilinear\",\n",
        "    follow_links=False,\n",
        "    crop_to_aspect_ratio=False\n",
        ")"
      ]
    },
    {
      "cell_type": "code",
      "execution_count": null,
      "metadata": {},
      "outputs": [],
      "source": [
        "validation_set = tf.keras.utils.image_dataset_from_directory(\n",
        "    'valid',\n",
        "    labels=\"inferred\",\n",
        "    label_mode=\"categorical\",\n",
        "    class_names=None,\n",
        "    color_mode=\"rgb\",\n",
        "    batch_size=32,\n",
        "    image_size=(128, 128),\n",
        "    shuffle=True,\n",
        "    seed=None,\n",
        "    validation_split=None,\n",
        "    subset=None,\n",
        "    interpolation=\"bilinear\",\n",
        "    follow_links=False,\n",
        "    crop_to_aspect_ratio=False\n",
        ")"
      ]
    },
    {
      "cell_type": "code",
      "execution_count": null,
      "metadata": {},
      "outputs": [],
      "source": [
        "cnn = tf.keras.models.Sequential()"
      ]
    },
    {
      "cell_type": "code",
      "execution_count": null,
      "metadata": {
        "execution": {
          "iopub.execute_input": "2025-06-15T21:31:07.986546Z",
          "iopub.status.busy": "2025-06-15T21:31:07.986342Z",
          "iopub.status.idle": "2025-06-15T21:31:09.002638Z",
          "shell.execute_reply": "2025-06-15T21:31:09.002086Z",
          "shell.execute_reply.started": "2025-06-15T21:31:07.986531Z"
        },
        "id": "_pLwr4hdr9q1",
        "trusted": true
      },
      "outputs": [],
      "source": [
        "cnn.add(tf.keras.layers.Conv2D(filters=32, kernel_size=3, padding='same', activation='relu', input_shape=[128, 128, 3]))\n",
        "cnn.add(tf.keras.layers.MaxPool2D(pool_size=2, strides=2))\n",
        "\n",
        "cnn.add(tf.keras.layers.Conv2D(filters=64, kernel_size=3, padding='same', activation='relu'))\n",
        "cnn.add(tf.keras.layers.MaxPool2D(pool_size=2, strides=2))\n",
        "\n",
        "cnn.add(tf.keras.layers.Conv2D(filters=128, kernel_size=3, padding='same', activation='relu'))\n",
        "cnn.add(tf.keras.layers.MaxPool2D(pool_size=2, strides=2))\n",
        "\n",
        "cnn.add(tf.keras.layers.Conv2D(filters=256, kernel_size=3, padding='same', activation='relu'))\n",
        "cnn.add(tf.keras.layers.MaxPool2D(pool_size=2, strides=2))\n",
        "\n",
        "cnn.add(tf.keras.layers.Dropout(0.20))\n",
        "cnn.add(tf.keras.layers.Flatten())\n",
        "\n",
        "cnn.add(tf.keras.layers.Dense(units=1500, activation='relu'))\n",
        "cnn.add(tf.keras.layers.Dropout(0.4))\n",
        "\n",
        "cnn.add(tf.keras.layers.Dense(units=15, activation='softmax'))\n",
        "\n",
        "cnn.summary()"
      ]
    },
    {
      "cell_type": "code",
      "execution_count": null,
      "metadata": {
        "execution": {
          "iopub.execute_input": "2025-06-15T21:31:09.00355Z",
          "iopub.status.busy": "2025-06-15T21:31:09.003313Z",
          "iopub.status.idle": "2025-06-15T21:31:09.015864Z",
          "shell.execute_reply": "2025-06-15T21:31:09.015274Z",
          "shell.execute_reply.started": "2025-06-15T21:31:09.003524Z"
        },
        "id": "UBahGeI1r9q1",
        "trusted": true
      },
      "outputs": [],
      "source": [
        "cnn.compile(optimizer=tf.keras.optimizers.legacy.Adam(\n",
        "    learning_rate=0.0001),loss='categorical_crossentropy',metrics=['accuracy'])"
      ]
    },
    {
      "cell_type": "code",
      "execution_count": null,
      "metadata": {},
      "outputs": [],
      "source": [
        "training_history = cnn.fit(x=training_set,validation_data=validation_set,epochs=10)"
      ]
    },
    {
      "cell_type": "markdown",
      "metadata": {},
      "source": [
        "### Step 6. Evaluation on Training & Validation Datasets"
      ]
    },
    {
      "cell_type": "code",
      "execution_count": null,
      "metadata": {
        "execution": {
          "iopub.execute_input": "2025-06-15T21:32:31.560666Z",
          "iopub.status.busy": "2025-06-15T21:32:31.56045Z",
          "iopub.status.idle": "2025-06-15T21:32:31.8526Z",
          "shell.execute_reply": "2025-06-15T21:32:31.852039Z",
          "shell.execute_reply.started": "2025-06-15T21:32:31.560649Z"
        },
        "id": "2XBrkoRUr9q1",
        "trusted": true
      },
      "outputs": [],
      "source": [
        "#Training set Accuracy\n",
        "train_loss, train_acc = cnn.evaluate(training_set)\n",
        "print('Training accuracy:', train_acc)\n",
        "#Validation set Accuracy\n",
        "val_loss, val_acc = cnn.evaluate(validation_set)\n",
        "print('Validation accuracy:', val_acc)"
      ]
    },
    {
      "cell_type": "code",
      "execution_count": null,
      "metadata": {},
      "outputs": [],
      "source": [
        "# Save the trained model\n",
        "cnn.save('trained_plant_disease_model.keras')"
      ]
    },
    {
      "cell_type": "code",
      "execution_count": null,
      "metadata": {},
      "outputs": [],
      "source": [
        "epochs = [i for i in range(1,11)]\n",
        "plt.plot(epochs,training_history.history['accuracy'],color='red',label='Training Accuracy')\n",
        "plt.plot(epochs,training_history.history['val_accuracy'],color='blue',label='Validation Accuracy')\n",
        "plt.xlabel('No. of Epochs')\n",
        "plt.title('Visualization of Accuracy Result')\n",
        "plt.legend()\n",
        "plt.show()"
      ]
    },
    {
      "cell_type": "code",
      "execution_count": null,
      "metadata": {},
      "outputs": [],
      "source": [
        "test_set = tf.keras.utils.image_dataset_from_directory(\n",
        "    'test',\n",
        "    labels=\"inferred\",\n",
        "    label_mode=\"categorical\",\n",
        "    class_names=None,\n",
        "    color_mode=\"rgb\",\n",
        "    batch_size=1,\n",
        "    image_size=(128, 128),\n",
        "    shuffle=False,\n",
        "    seed=None,\n",
        "    validation_split=None,\n",
        "    subset=None,\n",
        "    interpolation=\"bilinear\",\n",
        "    follow_links=False,\n",
        "    crop_to_aspect_ratio=False\n",
        ")"
      ]
    },
    {
      "cell_type": "code",
      "execution_count": null,
      "metadata": {},
      "outputs": [],
      "source": [
        "y_pred = cnn.predict(test_set)\n",
        "predicted_categories = tf.argmax(y_pred, axis=1)\n",
        "true_categories = tf.concat([y for x, y in test_set], axis=0)\n",
        "Y_true = tf.argmax(true_categories, axis=1)\n",
        "Y_true\n",
        "predicted_categories\n",
        "from sklearn.metrics import confusion_matrix,classification_report\n",
        "cm = confusion_matrix(Y_true,predicted_categories)\n",
        "# Precision Recall Fscore\n",
        "print(classification_report(Y_true,predicted_categories,target_names=class_name))"
      ]
    },
    {
      "cell_type": "code",
      "execution_count": null,
      "metadata": {},
      "outputs": [],
      "source": [
        "plt.figure(figsize=(40, 40))\n",
        "sns.heatmap(cm,annot=True,annot_kws={\"size\": 10})\n",
        "plt.xlabel('Predicted Class',fontsize = 20)\n",
        "plt.ylabel('Actual Class',fontsize = 20)\n",
        "plt.title('Plant Disease Prediction Confusion Matrix',fontsize = 25)\n",
        "plt.show()"
      ]
    }
  ],
  "metadata": {
    "colab": {
      "name": "Plant_diseases_classification",
      "provenance": []
    },
    "kaggle": {
      "accelerator": "gpu",
      "dataSources": [
        {
          "datasetId": 70909,
          "sourceId": 150545,
          "sourceType": "datasetVersion"
        }
      ],
      "dockerImageVersionId": 31041,
      "isGpuEnabled": true,
      "isInternetEnabled": true,
      "language": "python",
      "sourceType": "notebook"
    },
    "kernelspec": {
      "display_name": "py310",
      "language": "python",
      "name": "python3"
    },
    "language_info": {
      "codemirror_mode": {
        "name": "ipython",
        "version": 3
      },
      "file_extension": ".py",
      "mimetype": "text/x-python",
      "name": "python",
      "nbconvert_exporter": "python",
      "pygments_lexer": "ipython3",
      "version": "3.10.18"
    }
  },
  "nbformat": 4,
  "nbformat_minor": 0
}
